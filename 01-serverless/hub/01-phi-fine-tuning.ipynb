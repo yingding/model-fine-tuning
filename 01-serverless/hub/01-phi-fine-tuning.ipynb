{
 "cells": [
  {
   "cell_type": "markdown",
   "id": "f922af4d",
   "metadata": {},
   "source": [
    "## Login with az cli\n",
    "\n",
    "use az cli to login from the shell or powershell\n",
    "```shell\n",
    "az logout\n",
    "az login --tenant \"<tenent_id>\" --scope \"https://management.azure.com/.default\" --scope \"https://ai.azure.com/.default\"\n",
    "```\n",
    "\n",
    "make sure azure cli login user is either \"owner\" or \"contributor\" in the hub based project\n",
    "\n",
    "references:\n",
    "* https://learn.microsoft.com/en-us/azure/ai-foundry/how-to/fine-tune-serverless?tabs=chat-completion&pivots=programming-language-python"
   ]
  },
  {
   "cell_type": "code",
   "execution_count": 8,
   "id": "f2370206",
   "metadata": {},
   "outputs": [
    {
     "name": "stdout",
     "output_type": "stream",
     "text": [
      "Environment and authentication OK\n"
     ]
    }
   ],
   "source": [
    "# azure machine learnin client\n",
    "from azure.ai.ml import MLClient\n",
    "from azure.ai.ml.entities import Model\n",
    "from dotenv import load_dotenv\n",
    "\n",
    "load_dotenv(dotenv_path=\".env\", override=True)\n",
    "\n",
    "from utils.hubauth import AuthHelper\n",
    "settings = AuthHelper.load_settings()\n",
    "credential = AuthHelper.test_credential()\n",
    "\n",
    "if credential:\n",
    "    print('Environment and authentication OK')\n",
    "else:\n",
    "    print(\"please login first\")"
   ]
  },
  {
   "cell_type": "code",
   "execution_count": 9,
   "id": "7574f7d6",
   "metadata": {},
   "outputs": [
    {
     "name": "stderr",
     "output_type": "stream",
     "text": [
      "Overriding of current TracerProvider is not allowed\n",
      "Overriding of current LoggerProvider is not allowed\n",
      "Overriding of current MeterProvider is not allowed\n",
      "Attempting to instrument while already instrumented\n",
      "Attempting to instrument while already instrumented\n",
      "Attempting to instrument while already instrumented\n",
      "Attempting to instrument while already instrumented\n",
      "Attempting to instrument while already instrumented\n",
      "Overriding of current TracerProvider is not allowed\n",
      "Overriding of current LoggerProvider is not allowed\n",
      "Overriding of current MeterProvider is not allowed\n",
      "Attempting to instrument while already instrumented\n",
      "Attempting to instrument while already instrumented\n",
      "Attempting to instrument while already instrumented\n",
      "Attempting to instrument while already instrumented\n",
      "Attempting to instrument while already instrumented\n"
     ]
    },
    {
     "data": {
      "text/plain": [
       "'/subscriptions/6753a2ee-12b7-4fac-82fa-48824fb58abe/resourceGroups/rg-ai-sandbox-yw-uno/providers/Microsoft.MachineLearningServices/workspaces/ai-proj-demo-yw-uno'"
      ]
     },
     "execution_count": 9,
     "metadata": {},
     "output_type": "execute_result"
    }
   ],
   "source": [
    "try:\n",
    "    workspace_ml_client = MLClient.from_config(credential=credential)\n",
    "except:\n",
    "    workspace_ml_client = MLClient(\n",
    "        credential=credential,\n",
    "        subscription_id=settings.subscription_id,\n",
    "        resource_group_name=settings.resource_group_name,\n",
    "        workspace_name=settings.project_name,\n",
    "    )\n",
    "\n",
    "# the models, fine tuning pipelines and environments are available in various AzureML system registries,\n",
    "# Example: Phi family of models are in \"azureml\", Llama family of models are in \"azureml-meta\" registry.\n",
    "registry_ml_client = MLClient(credential, registry_name=\"azureml\")\n",
    "\n",
    "# Get AzureML workspace object, the workspace_name must be a hub based workspace name\n",
    "workspace = workspace_ml_client._workspaces.get(workspace_ml_client.workspace_name)\n",
    "workspace.id"
   ]
  },
  {
   "cell_type": "code",
   "execution_count": 3,
   "id": "874a6287",
   "metadata": {},
   "outputs": [],
   "source": [
    "# workspaces =workspace_ml_client._workspaces.list()\n",
    "# for ws in workspaces:\n",
    "#     print(f\"Workspace: {ws.name}, ID: {ws.id}, Location: {ws.location}\")"
   ]
  },
  {
   "cell_type": "code",
   "execution_count": 7,
   "id": "1b8ee622",
   "metadata": {},
   "outputs": [
    {
     "name": "stdout",
     "output_type": "stream",
     "text": [
      "\n",
      "\n",
      "Using model name: Phi-4-mini-instruct, version: 1, id: azureml://registries/azureml/models/Phi-4-mini-instruct/versions/1 for fine tuning\n"
     ]
    }
   ],
   "source": [
    "# model with fine-tuning support\n",
    "model_name = \"Phi-4-mini-instruct\"\n",
    "model_to_finetune = registry_ml_client.models.get(model_name, label=\"latest\")\n",
    "print(\n",
    "    \"\\n\\nUsing model name: {0}, version: {1}, id: {2} for fine tuning\".format(\n",
    "        model_to_finetune.name, model_to_finetune.version, model_to_finetune.id\n",
    "    )\n",
    ")"
   ]
  },
  {
   "cell_type": "code",
   "execution_count": 16,
   "id": "539b8caa",
   "metadata": {},
   "outputs": [
    {
     "name": "stdout",
     "output_type": "stream",
     "text": [
      "c:\\Users\\yingdingwang\\Documents\\VCS\\democollections\\model-fine-tuning\\01-serverless\\hub\\data\\train.jsonl\n",
      "c:\\Users\\yingdingwang\\Documents\\VCS\\democollections\\model-fine-tuning\\01-serverless\\hub\\models\n"
     ]
    }
   ],
   "source": [
    "import os\n",
    "parent_dir =os.getcwd()\n",
    "data_dir = os.path.join(parent_dir, \"data\")\n",
    "model_dir = os.path.join(parent_dir, \"models\")\n",
    "train_data_path = os.path.join(data_dir, \"train.jsonl\")\n",
    "validation_data_path = os.path.join(data_dir, \"validation.jsonl\")\n",
    "\n",
    "print(train_data_path)\n",
    "print(model_dir)"
   ]
  },
  {
   "cell_type": "code",
   "execution_count": null,
   "id": "3dd41ed1",
   "metadata": {},
   "outputs": [
    {
     "name": "stdout",
     "output_type": "stream",
     "text": [
      "creating dataset\n"
     ]
    }
   ],
   "source": [
    "from azure.ai.ml.constants import AssetTypes\n",
    "from azure.ai.ml.entities import Data\n",
    "# make sure the storage account aihubdemoywuno has public network access, and your az login user has Blob Storage Contributor role\n",
    "# minimum 65 rows in train.jsonl\n",
    "dataset_version = \"2\"\n",
    "train_dataset_name = \"chat_training_small\"\n",
    "try:\n",
    "    train_data_asset = workspace_ml_client.data.get(\n",
    "        name=train_dataset_name, version=dataset_version\n",
    "    )\n",
    "    print(f\"Dataset {train_dataset_name} already exists\")\n",
    "except:\n",
    "    print(\"creating dataset\")\n",
    "    train_data = Data(\n",
    "        path=train_data_path,\n",
    "        type=AssetTypes.URI_FILE,\n",
    "        description=\"Training dataset\",\n",
    "        name=train_dataset_name,\n",
    "        version=dataset_version,\n",
    "    )\n",
    "    train_data_asset = workspace_ml_client.data.create_or_update(train_data)"
   ]
  },
  {
   "cell_type": "code",
   "execution_count": null,
   "id": "c7a0ec3d",
   "metadata": {},
   "outputs": [
    {
     "name": "stdout",
     "output_type": "stream",
     "text": [
      "creating dataset\n"
     ]
    },
    {
     "name": "stderr",
     "output_type": "stream",
     "text": [
      "\u001b[32mUploading validation.jsonl\u001b[32m (< 1 MB): 100%|██████████| 1.80k/1.80k [00:00<00:00, 14.8kB/s]\n",
      "\u001b[39m\n",
      "\n"
     ]
    }
   ],
   "source": [
    "from azure.ai.ml.entities import Data\n",
    "\n",
    "dataset_version = \"1\"\n",
    "validation_dataset_name = \"chat_validation_small\"\n",
    "try:\n",
    "    validation_data_asset = workspace_ml_client.data.get(\n",
    "        validation_dataset_name, version=dataset_version\n",
    "    )\n",
    "    print(f\"Dataset {validation_dataset_name} already exists\")\n",
    "except:\n",
    "    print(\"creating dataset\")\n",
    "    validation_data = Data(\n",
    "        path=validation_data_path,\n",
    "        type=AssetTypes.URI_FILE,\n",
    "        description=\"Validation dataset\",\n",
    "        name=validation_dataset_name,\n",
    "        version=\"1\",\n",
    "    )\n",
    "    validation_data_asset = workspace_ml_client.data.create_or_update(validation_data)"
   ]
  },
  {
   "cell_type": "code",
   "execution_count": null,
   "id": "21a0d157",
   "metadata": {},
   "outputs": [],
   "source": [
    "# model_id_to_subscribe = \"/\".join(model_to_finetune.id.split(\"/\")[:-2])\n",
    "# print(model_id_to_subscribe)\n",
    "\n",
    "# normalized_model_name = model_name.replace(\".\", \"-\")"
   ]
  },
  {
   "cell_type": "code",
   "execution_count": null,
   "id": "5b8bfa71",
   "metadata": {},
   "outputs": [],
   "source": [
    "# from azure.ai.ml.entities import MarketplaceSubscription\n",
    "\n",
    "# subscription_name = f\"{normalized_model_name}-sub\"\n",
    "\n",
    "# marketplace_subscription = MarketplaceSubscription(\n",
    "#     model_id=model_id_to_subscribe,\n",
    "#     name=subscription_name,\n",
    "# )\n",
    "\n",
    "# note: this will throw exception if the subscription already exists or subscription is not required (for example, if the model is not in the marketplace like Phi family)\n",
    "# try:\n",
    "#     marketplace_subscription = (\n",
    "#         workspace_ml_client.marketplace_subscriptions.begin_create_or_update(\n",
    "#             marketplace_subscription\n",
    "#         ).result()\n",
    "#     )\n",
    "# except Exception as ex:\n",
    "#     print(ex)"
   ]
  },
  {
   "cell_type": "code",
   "execution_count": 17,
   "id": "22383a20",
   "metadata": {},
   "outputs": [],
   "source": [
    "## submit fine tuning job\n",
    "\n",
    "from azure.ai.ml.finetuning import FineTuningTaskType, create_finetuning_job\n",
    "import uuid\n",
    "\n",
    "guid = uuid.uuid4()\n",
    "short_guid = str(guid)[:8]\n",
    "display_name = f\"{model_name}-display-name-{short_guid}-from-sdk\"\n",
    "name = f\"{model_name}t-{short_guid}-from-sdk\"\n",
    "output_model_name_prefix = f\"{model_name}-{short_guid}-from-sdk-finetuned\"\n",
    "experiment_name = f\"{model_name}-from-sdk\"\n",
    "\n",
    "finetuning_job = create_finetuning_job(\n",
    "    task=FineTuningTaskType.CHAT_COMPLETION,\n",
    "    training_data=train_data_asset.id,\n",
    "    validation_data=validation_data_asset.id,\n",
    "    hyperparameters={\n",
    "        \"per_device_train_batch_size\": \"1\",\n",
    "        \"learning_rate\": \"0.00002\",\n",
    "        \"num_train_epochs\": \"1\",\n",
    "    },\n",
    "    model=model_to_finetune.id,\n",
    "    display_name=display_name,\n",
    "    name=name,\n",
    "    experiment_name=experiment_name,\n",
    "    tags={\"foo_tag\": \"bar\"},\n",
    "    properties={\"my_property\": \"my_value\"},\n",
    "    output_model_name_prefix=output_model_name_prefix,\n",
    ")"
   ]
  },
  {
   "cell_type": "code",
   "execution_count": 18,
   "id": "2c38e65e",
   "metadata": {},
   "outputs": [
    {
     "name": "stderr",
     "output_type": "stream",
     "text": [
      "pathOnCompute is not a known attribute of class <class 'azure.ai.ml._restclient.v2023_04_01_preview.models._models_py3.MLFlowModelJobOutput'> and will be ignored\n"
     ]
    },
    {
     "data": {
      "text/html": [
       "<table style=\"width:100%\"><tr><th>Experiment</th><th>Name</th><th>Type</th><th>Status</th><th>Details Page</th></tr><tr><td>Phi-4-mini-instruct-from-sdk</td><td>Phi-4-mini-instructt-b4c828af-from-sdk</td><td>finetuning</td><td>Running</td><td><a href=\"https://ml.azure.com/runs/Phi-4-mini-instructt-b4c828af-from-sdk?wsid=/subscriptions/6753a2ee-12b7-4fac-82fa-48824fb58abe/resourcegroups/rg-ai-sandbox-yw-uno/workspaces/ai-proj-demo-yw-uno&amp;tid=787eb5ff-f2ee-4965-8074-edbba3402c84\" target=\"_blank\" rel=\"noopener\">Link to Azure Machine Learning studio</a></td></tr></table>"
      ],
      "text/plain": [
       "CustomModelFineTuningJob({'hyperparameters': {'per_device_train_batch_size': '1', 'learning_rate': '0.00002', 'num_train_epochs': '1'}, 'task': 'chatCompletion', 'model': {'type': 'mlflow_model', 'path': 'azureml://registries/azureml/models/Phi-4-mini-instruct/versions/1'}, 'model_provider': <ModelProvider.CUSTOM: 'Custom'>, 'training_data': {'type': 'uri_file', 'path': '/subscriptions/6753a2ee-12b7-4fac-82fa-48824fb58abe/resourceGroups/rg-ai-sandbox-yw-uno/providers/Microsoft.MachineLearningServices/workspaces/ai-proj-demo-yw-uno/data/chat_training_small/versions/2'}, 'validation_data': {'type': 'uri_file', 'path': '/subscriptions/6753a2ee-12b7-4fac-82fa-48824fb58abe/resourceGroups/rg-ai-sandbox-yw-uno/providers/Microsoft.MachineLearningServices/workspaces/ai-proj-demo-yw-uno/data/chat_validation_small/versions/1'}, 'resources': <azure.ai.ml.entities._job.job_resources.JobResources object at 0x16af68d70>, 'outputs': {'registered_model': {'type': 'mlflow_model', 'name': 'Phi-4-mini-instruct-b4c828af-from-sdk-finetuned', 'mode': 'rw_mount'}}, 'type': 'finetuning', 'status': 'Running', 'log_files': None, 'name': 'Phi-4-mini-instructt-b4c828af-from-sdk', 'description': None, 'tags': {'foo_tag': 'bar'}, 'properties': {'my_property': 'my_value', 'mlflow.source.git.repoURL': 'git@github.com-yingding:yingding/model-fine-tuning.git', 'mlflow.source.git.branch': 'main', 'mlflow.source.git.commit': 'c7c7f34081090297b79d1e93f32a335e519a7983', 'azureml.git.dirty': 'True', 'PipelineType': 'FineTuning', 'original_model_id': 'azureml://registries/azureml/models/Phi-4-mini-instruct/versions/1', 'azureml.ModelName': 'Phi-4-mini-instruct', 'azureml.PipelineType': 'FineTuning', 'azureml.original_model_id': 'azureml://registries/azureml/models/Phi-4-mini-instruct/versions/1', 'azureml.trainingData.assetId': '/subscriptions/6753a2ee-12b7-4fac-82fa-48824fb58abe/resourceGroups/rg-ai-sandbox-yw-uno/providers/Microsoft.MachineLearningServices/workspaces/ai-proj-demo-yw-uno/data/chat_training_small/versions/2', 'azureml.validationData.assetId': '/subscriptions/6753a2ee-12b7-4fac-82fa-48824fb58abe/resourceGroups/rg-ai-sandbox-yw-uno/providers/Microsoft.MachineLearningServices/workspaces/ai-proj-demo-yw-uno/data/chat_validation_small/versions/1', '_fineTuningJobType': 'MaaS', 'FineTuningTaskType': 'ChatCompletion', 'StartTimeUtc': '2025-08-19 00:08:43'}, 'print_as_yaml': False, 'id': '/subscriptions/6753a2ee-12b7-4fac-82fa-48824fb58abe/resourceGroups/rg-ai-sandbox-yw-uno/providers/Microsoft.MachineLearningServices/workspaces/ai-proj-demo-yw-uno/jobs/Phi-4-mini-instructt-b4c828af-from-sdk', 'Resource__source_path': '', 'base_path': '/Users/yingding/Code/VCS/ai/model-fine-tuning/01-serverless/hub', 'creation_context': <azure.ai.ml._restclient.v2024_10_01_preview.models._models_py3.SystemData object at 0x16ff5d730>, 'serialize': <msrest.serialization.Serializer object at 0x16af68d10>, 'display_name': 'Phi-4-mini-instruct-display-name-b4c828af-from-sdk', 'experiment_name': 'Phi-4-mini-instruct-from-sdk', 'compute': None, 'services': {'Tracking': <azure.ai.ml._restclient.v2024_10_01_preview.models._models_py3.JobService object at 0x16ff5d7f0>, 'Studio': <azure.ai.ml._restclient.v2024_10_01_preview.models._models_py3.JobService object at 0x16ff5f590>}})"
      ]
     },
     "execution_count": 18,
     "metadata": {},
     "output_type": "execute_result"
    }
   ],
   "source": [
    "created_job = workspace_ml_client.jobs.create_or_update(finetuning_job)\n",
    "workspace_ml_client.jobs.get(created_job.name)"
   ]
  },
  {
   "cell_type": "code",
   "execution_count": null,
   "id": "c1885654",
   "metadata": {},
   "outputs": [
    {
     "name": "stdout",
     "output_type": "stream",
     "text": [
      "Current job status: Running\n",
      "Job is still running. Checking again in 30 seconds.\n",
      "Current job status: Running\n",
      "Job is still running. Checking again in 30 seconds.\n",
      "Current job status: Running\n",
      "Job is still running. Checking again in 30 seconds.\n",
      "Current job status: Running\n",
      "Job is still running. Checking again in 30 seconds.\n",
      "Current job status: Running\n",
      "Job is still running. Checking again in 30 seconds.\n",
      "Current job status: Running\n",
      "Job is still running. Checking again in 30 seconds.\n",
      "Current job status: Running\n",
      "Job is still running. Checking again in 30 seconds.\n",
      "Current job status: Running\n",
      "Job is still running. Checking again in 30 seconds.\n",
      "Current job status: Running\n",
      "Job is still running. Checking again in 30 seconds.\n"
     ]
    }
   ],
   "source": [
    "status = workspace_ml_client.jobs.get(created_job.name).status\n",
    "\n",
    "import time\n",
    "\n",
    "while True:\n",
    "    status = workspace_ml_client.jobs.get(created_job.name).status\n",
    "    print(f\"Current job status: {status}\")\n",
    "    if status in [\"Failed\", \"Completed\", \"Canceled\"]:\n",
    "        print(\"Job has finished with status: {0}\".format(status))\n",
    "        break\n",
    "    else:\n",
    "        print(\"Job is still running. Checking again in 30 seconds.\")\n",
    "        time.sleep(30)"
   ]
  },
  {
   "cell_type": "code",
   "execution_count": null,
   "id": "ff613be6",
   "metadata": {},
   "outputs": [],
   "source": [
    "finetune_model_name = created_job.outputs[\"registered_model\"][\"name\"]\n",
    "finetune_model_name"
   ]
  },
  {
   "cell_type": "markdown",
   "id": "661bee72",
   "metadata": {},
   "source": [
    "### deploy fine tuned model\n",
    "\n",
    "https://learn.microsoft.com/en-us/azure/ai-foundry/how-to/fine-tune-serverless?tabs=chat-completion&pivots=programming-language-python#deploy-a-fine-tuned-model-1"
   ]
  },
  {
   "cell_type": "code",
   "execution_count": 25,
   "id": "5ac58f80",
   "metadata": {},
   "outputs": [
    {
     "data": {
      "text/plain": [
       "'azureml://locations/eastus2/workspaces/64f7576c-9119-4c04-9385-fc8e67e87b34/models/Phi-4-mini-instruct-b4c828af-from-sdk-finetuned/versions/1'"
      ]
     },
     "execution_count": 25,
     "metadata": {},
     "output_type": "execute_result"
    }
   ],
   "source": [
    "# deploy the fine tuned model\n",
    "\n",
    "finetune_model_name=\"Phi-4-mini-instruct-b4c828af-from-sdk-finetuned\"\n",
    "\n",
    "# Deploy the model as a serverless endpoint\n",
    "\n",
    "# endpoint_name = f\"{normalized_model_name}-ft-{short_guid}\"  # Name must be unique\n",
    "# asset id in AML model\n",
    "model_id = f\"azureml://locations/{workspace.location}/workspaces/{workspace._workspace_id}/models/{finetune_model_name}/versions/1\"\n",
    "model_id"
   ]
  },
  {
   "cell_type": "code",
   "execution_count": 28,
   "id": "95d6e8bf",
   "metadata": {},
   "outputs": [
    {
     "name": "stdout",
     "output_type": "stream",
     "text": [
      "Model: Phi-4-mini-instruct-b4c828af-from-sdk-finetuned, Version: 1, ID: /subscriptions/6753a2ee-12b7-4fac-82fa-48824fb58abe/resourceGroups/rg-ai-sandbox-yw-uno/providers/Microsoft.MachineLearningServices/workspaces/ai-proj-demo-yw-uno/models/Phi-4-mini-instruct-b4c828af-from-sdk-finetuned/versions/1\n",
      "Model name: Phi-4-mini-instruct-b4c828af-from-sdk-finetuned\n"
     ]
    }
   ],
   "source": [
    "# promptflow deployment also listed as model in the workspace\n",
    "models = workspace_ml_client.models.list(name=finetune_model_name)\n",
    "for model in models:\n",
    "    print(f\"Model: {model.name}, Version: {model.version}, ID: {model.id}\")\n",
    "\n",
    "model_name = model.name\n",
    "print(f\"Model name: {model_name}\")"
   ]
  },
  {
   "cell_type": "code",
   "execution_count": 38,
   "id": "7d8767b4",
   "metadata": {},
   "outputs": [
    {
     "name": "stdout",
     "output_type": "stream",
     "text": [
      "finetune_model_name: Phi-4-mini-instruct-b4c828af-from-sdk-finetuned\n"
     ]
    },
    {
     "name": "stderr",
     "output_type": "stream",
     "text": [
      "Downloading the model azureml://datasets/7b945b6d-f248-4e07-9522-87175fc2a846 at c:\\Users\\yingdingwang\\Documents\\VCS\\democollections\\model-fine-tuning\\01-serverless\\hub\\models\\Phi-4-mini-instruct-b4c828af-from-sdk-finetuned\n",
      "\n"
     ]
    }
   ],
   "source": [
    "## storage account public network access \"aihubdemoywuno\"\n",
    "print(f\"finetune_model_name: {finetune_model_name}\")\n",
    "model_path = os.path.join(model_dir, finetune_model_name)\n",
    "if model_path and not os.path.exists(model_path):\n",
    "    os.makedirs(model_path)\n",
    "\n",
    "workspace_ml_client.models.download(name=finetune_model_name, version=\"1\", download_path=model_dir)"
   ]
  },
  {
   "cell_type": "code",
   "execution_count": null,
   "id": "55bf71e4",
   "metadata": {},
   "outputs": [
    {
     "ename": "AttributeError",
     "evalue": "module 'mlflow' has no attribute 'azureml'",
     "output_type": "error",
     "traceback": [
      "\u001b[31m---------------------------------------------------------------------------\u001b[39m",
      "\u001b[31mAttributeError\u001b[39m                            Traceback (most recent call last)",
      "\u001b[36mCell\u001b[39m\u001b[36m \u001b[39m\u001b[32mIn[39]\u001b[39m\u001b[32m, line 3\u001b[39m\n\u001b[32m      1\u001b[39m \u001b[38;5;28;01mimport\u001b[39;00m\u001b[38;5;250m \u001b[39m\u001b[34;01mmlflow\u001b[39;00m\n\u001b[32m----> \u001b[39m\u001b[32m3\u001b[39m local_path = \u001b[43mmlflow\u001b[49m\u001b[43m.\u001b[49m\u001b[43mazureml\u001b[49m.download_model(model_uri=model_id, dst_path=model_dir)\n",
      "\u001b[31mAttributeError\u001b[39m: module 'mlflow' has no attribute 'azureml'"
     ]
    }
   ],
   "source": [
    "import azureml-mlflow \n",
    "\n",
    "local_path = mlflow.azureml.download_model(model_uri=model_id, dst_path=model_dir)"
   ]
  },
  {
   "cell_type": "code",
   "execution_count": null,
   "id": "9f26e45f",
   "metadata": {},
   "outputs": [],
   "source": []
  }
 ],
 "metadata": {
  "kernelspec": {
   "display_name": "azhubft3.12pip",
   "language": "python",
   "name": "python3"
  },
  "language_info": {
   "codemirror_mode": {
    "name": "ipython",
    "version": 3
   },
   "file_extension": ".py",
   "mimetype": "text/x-python",
   "name": "python",
   "nbconvert_exporter": "python",
   "pygments_lexer": "ipython3",
   "version": "3.12.10"
  }
 },
 "nbformat": 4,
 "nbformat_minor": 5
}
